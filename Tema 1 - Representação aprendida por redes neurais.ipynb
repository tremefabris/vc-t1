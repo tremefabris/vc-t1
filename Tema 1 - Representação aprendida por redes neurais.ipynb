{
 "cells": [
  {
   "cell_type": "markdown",
   "metadata": {},
   "source": [
    "# Análise da representação aprendida por uma rede neural\n",
    "\n",
    "1. Utilizar a arquitetura ResNet 18 treinada no dataset ImageNet para extrair 512 atributos de cada imagem do dataset Oxford Pets, construindo uma matriz de tamanho \"len(ds) x 512\";\n",
    "2. Não aplicar data augmentation. Apenas redimensionar as imagens para o tamanho (224, 224) e normalizar para média 0 e variância 1;\n",
    "3. Criar um conjunto de treinamento e validação (lembre-se de aleatorizar os dados);\n",
    "4. Treinar o método de classificação k-vizinhos e o de clusterização k-médias no conjunto de treinamento, e verificar a acurácia no conjunto de validação.\n",
    "\n",
    "Não é necessário analisar o dataset todo, mas utilize no mínimo 1000 imagens de treinamento e 1000 de validação."
   ]
  },
  {
   "cell_type": "markdown",
   "metadata": {},
   "source": [
    "Exemplo de extração dos atributos"
   ]
  },
  {
   "cell_type": "code",
   "execution_count": 82,
   "metadata": {},
   "outputs": [
    {
     "data": {
      "text/plain": [
       "torch.Size([1, 512])"
      ]
     },
     "execution_count": 82,
     "metadata": {},
     "output_type": "execute_result"
    }
   ],
   "source": [
    "import torch\n",
    "from torch import nn\n",
    "from torchvision import models\n",
    "\n",
    "# Imagem aleatória para ilustração\n",
    "img = torch.rand(1, 3, 224, 224)\n",
    "\n",
    "model = models.resnet18(weights=models.ResNet18_Weights.DEFAULT)\n",
    "model.fc = nn.Identity()\n",
    "model.eval()\n",
    "\n",
    "with torch.no_grad():\n",
    "    features = model(img)\n",
    "features.shape"
   ]
  },
  {
   "cell_type": "markdown",
   "metadata": {},
   "source": [
    "Aplicação de classificação / clusterização"
   ]
  },
  {
   "cell_type": "code",
   "execution_count": 80,
   "metadata": {},
   "outputs": [],
   "source": [
    "import numpy as np\n",
    "\n",
    "# Dados aleatórios de treinamento e validação. No projeto eles terão que ser os\n",
    "# atributos extraídos das imagens\n",
    "scores_train = np.random.rand(5880, 512)\n",
    "targets_train = np.random.randint(0, 2, 5880)\n",
    "scores_valid = np.random.rand(1469, 512)\n",
    "targets_valid = np.random.randint(0, 2, 1469)"
   ]
  },
  {
   "cell_type": "code",
   "execution_count": 81,
   "metadata": {},
   "outputs": [
    {
     "data": {
      "text/plain": [
       "0.4996596324029952"
      ]
     },
     "execution_count": 81,
     "metadata": {},
     "output_type": "execute_result"
    }
   ],
   "source": [
    "from sklearn.linear_model import LogisticRegression\n",
    "from sklearn.neighbors import KNeighborsClassifier\n",
    "from sklearn.cluster import KMeans\n",
    "\n",
    "# Modelo logístico apenas de exemplo, ele precisa dar um bom resultado\n",
    "logistic = LogisticRegression()\n",
    "knn = KNeighborsClassifier()\n",
    "kms = KMeans(n_clusters=2)\n",
    "\n",
    "method = kms\n",
    "# Para o kmeans as classes não são necessárias\n",
    "method.fit(scores_train, targets_train)\n",
    "preds = method.predict(scores_valid)\n",
    "(preds==targets_valid).mean()"
   ]
  }
 ],
 "metadata": {
  "kernelspec": {
   "display_name": "vc2024",
   "language": "python",
   "name": "python3"
  },
  "language_info": {
   "codemirror_mode": {
    "name": "ipython",
    "version": 3
   },
   "file_extension": ".py",
   "mimetype": "text/x-python",
   "name": "python",
   "nbconvert_exporter": "python",
   "pygments_lexer": "ipython3",
   "version": "3.12.2"
  }
 },
 "nbformat": 4,
 "nbformat_minor": 2
}
